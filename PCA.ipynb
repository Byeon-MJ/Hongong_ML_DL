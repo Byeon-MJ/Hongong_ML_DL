{
  "nbformat": 4,
  "nbformat_minor": 0,
  "metadata": {
    "colab": {
      "private_outputs": true,
      "provenance": [],
      "toc_visible": true,
      "authorship_tag": "ABX9TyPGf3LrdPIC/EOdYLTnWqX5",
      "include_colab_link": true
    },
    "kernelspec": {
      "name": "python3",
      "display_name": "Python 3"
    },
    "language_info": {
      "name": "python"
    }
  },
  "cells": [
    {
      "cell_type": "markdown",
      "metadata": {
        "id": "view-in-github",
        "colab_type": "text"
      },
      "source": [
        "<a href=\"https://colab.research.google.com/github/Byeon-MJ/ML_Practice_Repo/blob/main/PCA.ipynb\" target=\"_parent\"><img src=\"https://colab.research.google.com/assets/colab-badge.svg\" alt=\"Open In Colab\"/></a>"
      ]
    },
    {
      "cell_type": "markdown",
      "source": [
        "# 주성분 분석(Principal Component Analysis)"
      ],
      "metadata": {
        "id": "zLe4B_jRF5rk"
      }
    },
    {
      "cell_type": "markdown",
      "source": [
        "## 차원과 차원 축소\n",
        "* 차원 축소(Dimensionality Reduction) : 데이터를 나타내는 일부 특성을 선택하여 데이터 크기를 줄이고 지도학습 모델의 성능을 향상시키는 방법\n",
        "* 특성이 많으면 선형 모델의 성능은 높아지지만 훈련 데이터에 쉽게 과대적합 됨"
      ],
      "metadata": {
        "id": "NZD2baKWGA_q"
      }
    },
    {
      "cell_type": "markdown",
      "source": [
        "## 주성분 분석 소개\n",
        "* PCA : 데이터에 있는 분산이 큰 방향을 찾는 것\n",
        "* 분산이 큰 방향이란 데이터를 잘 표현하는 어떤 벡터\n",
        "* 일반적으로 주성분은 원본 특성의 개수만큼 찾을 수 있다."
      ],
      "metadata": {
        "id": "4K5KX6UIGHvN"
      }
    },
    {
      "cell_type": "markdown",
      "source": [
        "## PCA 클래스"
      ],
      "metadata": {
        "id": "Gn3D4QP0H7_i"
      }
    },
    {
      "cell_type": "code",
      "source": [
        "!wget https://bit.ly/fruits_300_data -O fruits_300.npy\n",
        "import numpy as np\n",
        "fruits = np.load('fruits_300.npy')\n",
        "fruits_2d = fruits.reshape(-1, 100*100)"
      ],
      "metadata": {
        "id": "tjuQC_osImJD"
      },
      "execution_count": null,
      "outputs": []
    },
    {
      "cell_type": "code",
      "source": [
        "from sklearn.decomposition import PCA\n",
        "pca = PCA(n_components=50)\n",
        "pca.fit(fruits_2d)"
      ],
      "metadata": {
        "id": "H-rU6K2GI3Hk"
      },
      "execution_count": null,
      "outputs": []
    },
    {
      "cell_type": "code",
      "source": [
        "print(pca.components_.shape)"
      ],
      "metadata": {
        "id": "koxrG98JI_EO"
      },
      "execution_count": null,
      "outputs": []
    },
    {
      "cell_type": "code",
      "source": [
        "# 이미지 시각화 함수 정의\n",
        "import matplotlib.pyplot as plt\n",
        "def draw_fruits(arr, ratio=1):\n",
        "    n = len(arr)    # n은 샘플 개수\n",
        "    # 한 줄에 10개씩 이미지 그리기\n",
        "    rows = int(np.ceil(n/10))\n",
        "    cols = n if rows < 2 else 10\n",
        "    fig, axs = plt.subplots(rows, cols, figsize=(cols*ratio, rows*ratio), squeeze=False)\n",
        "\n",
        "    for i in range(rows):\n",
        "        for j in range(cols):\n",
        "            if i*10 + j < n:\n",
        "                axs[i, j].imshow(arr[i*10 + j], cmap='gray_r')\n",
        "            axs[i, j].axis('off')\n",
        "    plt.show()\n",
        "     "
      ],
      "metadata": {
        "id": "Eau7y6zaJEDX"
      },
      "execution_count": null,
      "outputs": []
    },
    {
      "cell_type": "code",
      "source": [
        "draw_fruits(pca.components_.reshape(-1, 100, 100))"
      ],
      "metadata": {
        "id": "--TV1PhlJPZw"
      },
      "execution_count": null,
      "outputs": []
    },
    {
      "cell_type": "markdown",
      "source": [
        "### 원본 데이터 차원 줄여보기"
      ],
      "metadata": {
        "id": "zzVm2N_2JwCH"
      }
    },
    {
      "cell_type": "code",
      "source": [
        "print(fruits_2d.shape)"
      ],
      "metadata": {
        "id": "fXFCyewcJURQ"
      },
      "execution_count": null,
      "outputs": []
    },
    {
      "cell_type": "code",
      "source": [
        "fruits_pca = pca.transform(fruits_2d)\n",
        "print(fruits_pca.shape)"
      ],
      "metadata": {
        "id": "opazU2KWJrS9"
      },
      "execution_count": null,
      "outputs": []
    },
    {
      "cell_type": "markdown",
      "source": [
        "## 원본 데이터 재구성\n",
        "* 데이터의 특성을 줄렸기 때문에 어느정도 손실이 발생한다.\n",
        "* 최대한 분산이 큰 방향으로 데이터를 투영했기 때문에 원본 데이터를 상당 부분을 재구성할 수 있다.\n",
        "* PCA 클래스에서는 inverse_transform() 메서드 제공"
      ],
      "metadata": {
        "id": "4bLLcmd3Jvly"
      }
    },
    {
      "cell_type": "code",
      "source": [
        "fruits_inverse = pca.inverse_transform(fruits_pca)\n",
        "print(fruits_inverse.shape)"
      ],
      "metadata": {
        "id": "OM1i7uqsJ31m"
      },
      "execution_count": null,
      "outputs": []
    },
    {
      "cell_type": "code",
      "source": [
        "fruits_reconstruct = fruits_inverse.reshape(-1, 100, 100)\n",
        "for start in [0, 100, 200]:\n",
        "    draw_fruits(fruits_reconstruct[start:start+100])\n",
        "    print('\\n')"
      ],
      "metadata": {
        "id": "AcIM5N78KQcm"
      },
      "execution_count": null,
      "outputs": []
    },
    {
      "cell_type": "markdown",
      "source": [
        "## 설명된 분산\n",
        "* explained_variance_ratio_ : 각 주성분의 설명된 분산 비율이 기록"
      ],
      "metadata": {
        "id": "mSbPtoX3Khex"
      }
    },
    {
      "cell_type": "code",
      "source": [
        "print(np.sum(pca.explained_variance_ratio_))"
      ],
      "metadata": {
        "id": "6V7MdZZKKtYK"
      },
      "execution_count": null,
      "outputs": []
    },
    {
      "cell_type": "code",
      "source": [
        "plt.plot(pca.explained_variance_ratio_)\n",
        "plt.show()"
      ],
      "metadata": {
        "id": "OfpX-j79K733"
      },
      "execution_count": null,
      "outputs": []
    },
    {
      "cell_type": "markdown",
      "source": [
        "# 다른 알고리즘과 함께 사용하기\n",
        "* 로지스틱 회귀 모델과 함께 적용"
      ],
      "metadata": {
        "id": "O2wVcSmELBWt"
      }
    },
    {
      "cell_type": "code",
      "source": [
        "from sklearn.linear_model import LogisticRegression\n",
        "lr = LogisticRegression()"
      ],
      "metadata": {
        "id": "0f8Jlg6iLQ8z"
      },
      "execution_count": null,
      "outputs": []
    },
    {
      "cell_type": "code",
      "source": [
        "# target 만들기\n",
        "target = np.array([0]*100 + [1]*100 + [2]*100)"
      ],
      "metadata": {
        "id": "fYEtMpymLa4x"
      },
      "execution_count": null,
      "outputs": []
    },
    {
      "cell_type": "markdown",
      "source": [
        "## 원본 데이터로 로지스틱 회귀모델 성능 검증"
      ],
      "metadata": {
        "id": "cK9wv_9hMq-3"
      }
    },
    {
      "cell_type": "code",
      "source": [
        "from sklearn.model_selection import cross_validate\n",
        "scores = cross_validate(lr, fruits_2d, target)\n",
        "print(np.mean(scores['test_score']))\n",
        "print(np.mean(scores['fit_time']))"
      ],
      "metadata": {
        "id": "Ffqjg9crMylV"
      },
      "execution_count": null,
      "outputs": []
    },
    {
      "cell_type": "markdown",
      "source": [
        "## PCA로 차원 축소된 데이터의 성능 검증"
      ],
      "metadata": {
        "id": "1cJ-Lu1jM9Aw"
      }
    },
    {
      "cell_type": "code",
      "source": [
        "scores = cross_validate(lr, fruits_pca, target)\n",
        "print(np.mean(scores['test_score']))\n",
        "print(np.mean(scores['fit_time']))"
      ],
      "metadata": {
        "id": "MRDSouhsNGHK"
      },
      "execution_count": null,
      "outputs": []
    },
    {
      "cell_type": "markdown",
      "source": [
        "## 특정 분산비율로 PCA 하기"
      ],
      "metadata": {
        "id": "bDzG4jhhNbNf"
      }
    },
    {
      "cell_type": "code",
      "source": [
        "# 분산 비율로 pca 하기\n",
        "pca = PCA(n_components=0.5)\n",
        "pca.fit(fruits_2d)"
      ],
      "metadata": {
        "id": "Za_lXGHiNLoW"
      },
      "execution_count": null,
      "outputs": []
    },
    {
      "cell_type": "code",
      "source": [
        "print(pca.n_components_)"
      ],
      "metadata": {
        "id": "O7h0wulJNdkK"
      },
      "execution_count": null,
      "outputs": []
    },
    {
      "cell_type": "code",
      "source": [
        "fruits_pca = pca.transform(fruits_2d)\n",
        "print(fruits_pca.shape)"
      ],
      "metadata": {
        "id": "LuJjlAKiNguT"
      },
      "execution_count": null,
      "outputs": []
    },
    {
      "cell_type": "code",
      "source": [
        "# 2개의 주성분 교차검증 성능 확인\n",
        "scores = cross_validate(lr, fruits_pca, target)\n",
        "print(np.mean(scores['test_score']))\n",
        "print(np.mean(scores['fit_time']))"
      ],
      "metadata": {
        "id": "snkM-OWQNnmD"
      },
      "execution_count": null,
      "outputs": []
    },
    {
      "cell_type": "markdown",
      "source": [
        "## K-Means 알고리즘으로 클러스터 찾기"
      ],
      "metadata": {
        "id": "GTFv4qkKNx5I"
      }
    },
    {
      "cell_type": "code",
      "source": [
        "from sklearn.cluster import KMeans\n",
        "km = KMeans(n_clusters=3, random_state=42)\n",
        "km.fit(fruits_pca)\n",
        "print(np.unique(km.labels_, return_counts=True))"
      ],
      "metadata": {
        "id": "QjJjHQLgN7O3"
      },
      "execution_count": null,
      "outputs": []
    },
    {
      "cell_type": "code",
      "source": [
        "for label in range(3):\n",
        "    draw_fruits(fruits[km.labels_ == label])\n",
        "    print('\\n')"
      ],
      "metadata": {
        "id": "ctGAu5GUOHl8"
      },
      "execution_count": null,
      "outputs": []
    },
    {
      "cell_type": "code",
      "source": [
        "for label in range(3):\n",
        "    data = fruits_pca[km.labels_ == label]\n",
        "    plt.scatter(data[:, 0], data[:, 1])\n",
        "plt.legend(['pineapple', 'banana', 'apple'])\n",
        "plt.show()"
      ],
      "metadata": {
        "id": "Ooq7-rIsORvm"
      },
      "execution_count": null,
      "outputs": []
    },
    {
      "cell_type": "code",
      "source": [],
      "metadata": {
        "id": "oMwwElt2OoMo"
      },
      "execution_count": null,
      "outputs": []
    }
  ]
}